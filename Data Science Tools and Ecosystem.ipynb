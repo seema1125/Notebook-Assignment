{
 "cells": [
  {
   "cell_type": "markdown",
   "metadata": {},
   "source": [
    "Exercise 1: Create a Jupyter Notebook"
   ]
  },
  {
   "cell_type": "raw",
   "metadata": {},
   "source": [
    "Goto-File-New-Notebook-File-Rename-Popup Box-Change Name"
   ]
  },
  {
   "cell_type": "markdown",
   "metadata": {},
   "source": [
    "Exercise 2: Create markdown cell with title of the notebook"
   ]
  },
  {
   "cell_type": "markdown",
   "metadata": {},
   "source": [
    "# Data Science Tools and Ecosystem"
   ]
  },
  {
   "cell_type": "markdown",
   "metadata": {},
   "source": [
    "Exercise 3 - Create a markdown cell for an introduction"
   ]
  },
  {
   "cell_type": "markdown",
   "metadata": {},
   "source": [
    "## Introduction of Notebook\n",
    "Jupyter emerged as a tool for interactive Python programming,Support's more than 100 programming language's throgh \"Kernels\".\n",
    "This encapsulated the execution enviroment for the different programming language's.\n",
    "## Jupyter Notebook\n",
    "Unify documentation,code,output from the code,shell commands,visualization in a single document.\n",
    "Abundance of artitect changes makes Jupyter more morden and modular."
   ]
  },
  {
   "cell_type": "markdown",
   "metadata": {},
   "source": [
    "Exercise 4 - Create a markdown cell to list data science languages"
   ]
  },
  {
   "cell_type": "markdown",
   "metadata": {},
   "source": [
    "Languages in Data Science-Language depands on needs the problem to solve and who you are solving them for.\n",
    "Some of the popular language are-\n",
    "#### **1.Python\n",
    "#### **2.R\n",
    "#### **3.SQL\n",
    "#### **4.Java\n",
    "#### **5.Scala\n",
    "#### **6.Julia\n",
    "#### **7.C++\n",
    "#### **8.php\n",
    "#### **9.Go\n",
    "##### etc"
   ]
  },
  {
   "cell_type": "markdown",
   "metadata": {},
   "source": [
    "Exercise 5 - Create a markdown cell to list data science libraries"
   ]
  },
  {
   "cell_type": "markdown",
   "metadata": {},
   "source": [
    "## Libraries\n",
    "Libraries usually contain built-in modules that provide different functionalities.Libraries are a collection of functions and methods and methods that allow you to perform many actions without writing the code.\n",
    "For machine learning, the Scikit-learn library contains tools for statistical modeling, including regression, classification, clustering and so on. TensorFlow is a low-level framework used in large-scale production of deep learning models. And, Apache Spark is a general-purpose cluster-computing framework allowing you to process data using compute clusters.\n",
    "\n",
    "### Some of the commonly used libraries used by Data Scientists include:\n",
    "### 1.Scientific Computing Libaries\n",
    "#### a.Pandas-Data structure and tools\n",
    "#### b.Numpy-Arrays and Matrices\n",
    "### 2.Visualization Libaries\n",
    "#### a.Matplotlib-Plots and Graphs \n",
    "#### b.Seaborn-Heat Maps,Time Series\n",
    "### 3.Machin Learning and Deep Learning Libaries\n",
    "#### a.Scikit Learn-Regration,Classification,Clusetring\n",
    "#### b.Keras-Deep Learning Nural Network\n",
    "### 4.Deep Learning Libraries\n",
    "#### a.TensorFlow-Production and Deployment\n",
    "#### b.PyTourch-Regration and Classification\n",
    "### 5.Apache Spark\n",
    "### 6.Scala Libraries\n",
    "#### a.Vegas\n",
    "#### b.Big DL\n",
    "### R Library\n",
    "#### a.ggplot2\n",
    "##### etc."
   ]
  },
  {
   "cell_type": "markdown",
   "metadata": {},
   "source": [
    "Exercise 6 - Create a markdown cell with a table of Data Science tools"
   ]
  },
  {
   "cell_type": "markdown",
   "metadata": {},
   "source": [
    "|Data Science and Tools|\n",
    "------------------------\n",
    "|   Jypter Notebook    |\n",
    "|   Apache Zeppelin    |\n",
    "|   R-Studio           |"
   ]
  },
  {
   "cell_type": "markdown",
   "metadata": {},
   "source": [
    "Exercise 7 - Create a markdown cell introducing arithmetic expression "
   ]
  },
  {
   "cell_type": "markdown",
   "metadata": {},
   "source": [
    "### Below are a few examples of evaluating arithmetic expressions in Python.\n",
    "* Addition +\n",
    "\n",
    "x = 40\n",
    "y = 20\n",
    "sum = x+y\n",
    "\n",
    "* Substraction -\n",
    "\n",
    "x = 30\n",
    "y = 11 \n",
    "sub = x-y\n",
    "\n",
    "* Multiplication * \n",
    "\n",
    "x = 2\n",
    "y = 2\n",
    "mul = x* y\n",
    "\n",
    "* Division \\\n",
    "\n",
    "x = 20\n",
    "y = 2\n",
    "div = x/y\n",
    "\n",
    "* Floor Division \\\\\n",
    "\n",
    "x = 4\n",
    "y = 2.2\n",
    "Fdiv = x//y\n",
    "\n",
    "\n",
    "* Modulas %\n",
    "\n",
    "x = 15\n",
    "y = 4\n",
    "mod = x%y\n"
   ]
  },
  {
   "cell_type": "markdown",
   "metadata": {},
   "source": [
    "Exercise 8 - Create a code cell to multiply and add numbers,evaluate the expression (3*4)+5."
   ]
  },
  {
   "cell_type": "code",
   "execution_count": 1,
   "metadata": {},
   "outputs": [
    {
     "name": "stdout",
     "output_type": "stream",
     "text": [
      "17\n"
     ]
    }
   ],
   "source": [
    "# This a simple arithmetic expression to mutiply then add integers.\n",
    "x=3\n",
    "y=4\n",
    "z=5\n",
    "xyz=(x*y)+5\n",
    "print(xyz)\n"
   ]
  },
  {
   "cell_type": "markdown",
   "metadata": {},
   "source": [
    "Exercise 9 - Create a code cell to convert minutes to hours,an expression that converts 200 minutes into hours."
   ]
  },
  {
   "cell_type": "code",
   "execution_count": 2,
   "metadata": {},
   "outputs": [
    {
     "name": "stdout",
     "output_type": "stream",
     "text": [
      "hours are: 3.3333333333333335\n"
     ]
    }
   ],
   "source": [
    "# For convert 200 minutes to hours by diving by 60.\n",
    "# M = Minutes,H = Hour's.\n",
    "M = 200 \n",
    "H = M / 60\n",
    "print(\"hours are:\",H)\n",
    "\n"
   ]
  },
  {
   "cell_type": "markdown",
   "metadata": {},
   "source": [
    "Exercise 10 - Insert a markdown cell to list Objectives"
   ]
  },
  {
   "cell_type": "markdown",
   "metadata": {},
   "source": [
    "**Objectives this notebooke covers\n",
    "\n",
    "Get an overview of code and markdown cells.\n",
    "\n",
    "+Execute, Insert and delete an existing code cell.\n",
    "\n",
    "+Write comments in Python.\n",
    "\n",
    "+Create and use Markdown cells.\n",
    "\n",
    "+Identify in which Kernel your Jupyter notebook is running\n",
    "\n",
    "+Create headings, and add text in bold and italics in Markdown\n",
    "\n",
    "+Create Tables in Markdown\n",
    "\n",
    "+Create ordered and unordered lists in Markdown"
   ]
  },
  {
   "cell_type": "markdown",
   "metadata": {},
   "source": [
    "Exercise 11 - Create a markdown cell to indicate the Author's name"
   ]
  },
  {
   "cell_type": "markdown",
   "metadata": {},
   "source": [
    "Author's \n",
    "Seema Singh"
   ]
  },
  {
   "cell_type": "markdown",
   "metadata": {},
   "source": [
    "Exercise 12 - Share your notebook through GitHub"
   ]
  },
  {
   "cell_type": "markdown",
   "metadata": {},
   "source": [
    "Exercise 13 -Take a screenshot of the first page of the notebook and save it as 1-notebook.png(Images can be saved with either the .jpg or .png extension.)\n"
   ]
  }
 ],
 "metadata": {
  "kernelspec": {
   "display_name": "Python 3 (ipykernel)",
   "language": "python",
   "name": "python3"
  },
  "language_info": {
   "codemirror_mode": {
    "name": "ipython",
    "version": 3
   },
   "file_extension": ".py",
   "mimetype": "text/x-python",
   "name": "python",
   "nbconvert_exporter": "python",
   "pygments_lexer": "ipython3",
   "version": "3.10.9"
  }
 },
 "nbformat": 4,
 "nbformat_minor": 4
}
